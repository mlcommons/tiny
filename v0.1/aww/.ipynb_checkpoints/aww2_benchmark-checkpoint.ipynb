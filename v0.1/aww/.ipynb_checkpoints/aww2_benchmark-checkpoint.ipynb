{
 "cells": [
  {
   "cell_type": "code",
   "execution_count": 2,
   "metadata": {},
   "outputs": [],
   "source": [
    "import tensorflow as tf\n",
    "import tensorflow_datasets as tfds\n",
    "from tensorflow.lite.experimental.microfrontend.python.ops import audio_microfrontend_op as frontend_op\n",
    "from tensorflow import keras\n",
    "from tensorflow.keras import layers\n",
    "\n",
    "import matplotlib.pyplot as plt\n",
    "import numpy as np"
   ]
  },
  {
   "cell_type": "code",
   "execution_count": 3,
   "metadata": {},
   "outputs": [
    {
     "name": "stdout",
     "output_type": "stream",
     "text": [
      "Taking 5000 for now\n",
      "Applied map.\n",
      "plotting wav 0\n",
      "plotting wav 1\n",
      "plotting wav 2\n"
     ]
    },
    {
     "data": {
      "image/png": "[encoded data removed]",
      "text/plain": [
       "<Figure size 432x288 with 3 Axes>"
      ]
     },
     "metadata": {
      "needs_background": "light"
     },
     "output_type": "display_data"
    }
   ],
   "source": [
    "(ds_train, ds_test), ds_info = tfds.load('speech_commands', split=['train', 'test'], \n",
    "                                         data_dir='/home/jeremy/data', with_info=True)\n",
    "#     split=None,\n",
    "#     data_dir=None,\n",
    "#     batch_size=1,\n",
    "#     download=True,\n",
    "#     as_supervised=False,\n",
    "#     with_info=False,\n",
    "#     builder_kwargs=None,\n",
    "#     download_and_prepare_kwargs=None,\n",
    "#     as_dataset_kwargs=None,\n",
    "\n",
    "def spec_feats(sample_dict): \n",
    "    \"\"\"Runs TFL microfrontend and returns spectrogram\"\"\"\n",
    "    audio = sample_dict['audio']\n",
    "    label = sample_dict['label']\n",
    "    paddings = [[0, 16000-tf.shape(audio)[0]]]\n",
    "    audio = tf.pad(audio, paddings)\n",
    "    audio16 = tf.cast(audio, 'int16')    \n",
    "    spec = frontend_op.audio_microfrontend(audio16, sample_rate=16000, window_size=40, \n",
    "                                           window_step=20, num_channels=40)\n",
    "    return spec, label\n",
    "\n",
    "def convert_to_int16(sample_dict):\n",
    "    audio = sample_dict['audio']\n",
    "    label = sample_dict['label']\n",
    "    audio16 = tf.cast(audio, 'int16')\n",
    "    return audio16, label\n",
    "\n",
    "def cast_and_pad(sample_dict):\n",
    "    audio = sample_dict['audio']\n",
    "    label = sample_dict['label']\n",
    "    paddings = [[0, 16000-tf.shape(audio)[0]]]\n",
    "    audio = tf.pad(audio, paddings)\n",
    "    audio16 = tf.cast(audio, 'int16')\n",
    "    return audio16, label\n",
    "\n",
    "print(\"Taking 5000 for now\")\n",
    "ds_train = ds_train.take(5000)\n",
    "ds_train = ds_train.map(cast_and_pad, num_parallel_calls=tf.data.experimental.AUTOTUNE)\n",
    "print(\"Applied map.\")\n",
    "# ds_train = ds_train.cache()\n",
    "# ds_train = ds_train.shuffle(ds_info.splits['train'].num_examples)\n",
    "# ds_train = ds_train.batch(128)\n",
    "# ds_train = ds_train.prefetch(tf.data.experimental.AUTOTUNE)\n",
    "\n",
    "cnt = 0\n",
    "\n",
    "for i, (wav, label) in enumerate(ds_train):\n",
    "    print(\"plotting wav {:}\".format(i))\n",
    "    plt.subplot(5,1,i+1)\n",
    "    plt.plot(wav.numpy())\n",
    "    if i == 2: break"
   ]
  },
  {
   "cell_type": "code",
   "execution_count": null,
   "metadata": {},
   "outputs": [],
   "source": []
  },
  {
   "cell_type": "code",
   "execution_count": 4,
   "metadata": {},
   "outputs": [
    {
     "name": "stdout",
     "output_type": "stream",
     "text": [
      "Eager execution enabled.\n"
     ]
    }
   ],
   "source": [
    "print(\"Eager execution {:}.\".format(\"enabled\" if tf.executing_eagerly() else \"disabled\"))"
   ]
  },
  {
   "cell_type": "code",
   "execution_count": 5,
   "metadata": {},
   "outputs": [
    {
     "data": {
      "text/plain": [
       "tensorflow.python.data.ops.dataset_ops.ParallelMapDataset"
      ]
     },
     "execution_count": 5,
     "metadata": {},
     "output_type": "execute_result"
    }
   ],
   "source": [
    "type(ds_train)"
   ]
  },
  {
   "cell_type": "code",
   "execution_count": 6,
   "metadata": {},
   "outputs": [
    {
     "name": "stdout",
     "output_type": "stream",
     "text": [
      "Done with 25 examples\n",
      "Done with 50 examples\n",
      "Done with 75 examples\n",
      "Done with 100 examples\n",
      "Done with 125 examples\n",
      "Done with 150 examples\n",
      "Done with 175 examples\n",
      "Done with 200 examples\n",
      "Done with 225 examples\n",
      "Done with 250 examples\n",
      "Done with 275 examples\n",
      "Done with 300 examples\n",
      "Done with 325 examples\n",
      "Done with 350 examples\n",
      "Done with 375 examples\n",
      "Done with 400 examples\n",
      "Done with 425 examples\n",
      "Done with 450 examples\n",
      "Done with 475 examples\n",
      "Done with 500 examples\n",
      "Done with 525 examples\n",
      "Done with 550 examples\n",
      "Done with 575 examples\n",
      "Done with 600 examples\n",
      "Done with 625 examples\n",
      "Done with 650 examples\n",
      "Done with 675 examples\n",
      "Done with 700 examples\n",
      "Done with 725 examples\n",
      "Done with 750 examples\n",
      "Done with 775 examples\n",
      "Done with 800 examples\n",
      "Done with 825 examples\n",
      "Done with 850 examples\n",
      "Done with 875 examples\n",
      "Done with 900 examples\n",
      "Done with 925 examples\n",
      "Done with 950 examples\n",
      "Done with 975 examples\n",
      "Done with 1000 examples\n",
      "Done with 1025 examples\n",
      "Done with 1050 examples\n",
      "Done with 1075 examples\n",
      "Done with 1100 examples\n",
      "Done with 1125 examples\n",
      "Done with 1150 examples\n",
      "Done with 1175 examples\n",
      "Done with 1200 examples\n",
      "Done with 1225 examples\n",
      "Done with 1250 examples\n",
      "Done with 1275 examples\n",
      "Done with 1300 examples\n",
      "Done with 1325 examples\n",
      "Done with 1350 examples\n",
      "Done with 1375 examples\n",
      "Done with 1400 examples\n",
      "Done with 1425 examples\n",
      "Done with 1450 examples\n",
      "Done with 1475 examples\n",
      "Done with 1500 examples\n",
      "Done with 1525 examples\n",
      "Done with 1550 examples\n",
      "Done with 1575 examples\n",
      "Done with 1600 examples\n",
      "Done with 1625 examples\n",
      "Done with 1650 examples\n",
      "Done with 1675 examples\n",
      "Done with 1700 examples\n",
      "Done with 1725 examples\n",
      "Done with 1750 examples\n",
      "Done with 1775 examples\n",
      "Done with 1800 examples\n",
      "Done with 1825 examples\n",
      "Done with 1850 examples\n",
      "Done with 1875 examples\n",
      "Done with 1900 examples\n",
      "Done with 1925 examples\n",
      "Done with 1950 examples\n",
      "Done with 1975 examples\n",
      "Done with 2000 examples\n",
      "Done 2000 samples\n",
      "created and batched dataset\n"
     ]
    }
   ],
   "source": [
    "cnt = 0\n",
    "num_classes = 12\n",
    "\n",
    "l_specgrams = []\n",
    "l_labels = []\n",
    "\n",
    "for (wav, label) in ds_train:    \n",
    "    if wav.shape != (16000,) or label.shape != ():\n",
    "        print(f\"In Loop Shape is wrong at {cnt}: {wav.shape}, {label.shape}\")\n",
    "    cnt += 1\n",
    "    spec = frontend_op.audio_microfrontend(wav, sample_rate=16000, window_size=40, window_step=20, num_channels=40)\n",
    "    spec = tf.cast(spec, 'float32') / 1000.0\n",
    "    l_specgrams.append(spec)\n",
    "    # label = keras.utils.to_categorical(label, num_classes)\n",
    "    l_labels.append(label)\n",
    "    if (cnt % 250) == 0: \n",
    "        print(f\"Done with {cnt} examples\")\n",
    "    if cnt == 2000: \n",
    "        break\n",
    "print(f\"Done {cnt} samples\")\n",
    "ds_train_specs = tf.data.Dataset.from_tensor_slices((l_specgrams, l_labels))\n",
    "ds_train_specs = ds_train_specs.shuffle(5000).batch(32)\n",
    "print(\"created and batched dataset\")"
   ]
  },
  {
   "cell_type": "code",
   "execution_count": 7,
   "metadata": {},
   "outputs": [
    {
     "name": "stdout",
     "output_type": "stream",
     "text": [
      "(32, 49, 40)\n",
      "tf.Tensor(\n",
      "[11 11 11 11 11 11 11 11 11 11 11 11 11 11 11 11 11  8  8 11 11 11 11 11\n",
      "  5 11 11 11 11 11  3 11], shape=(32,), dtype=int64)\n",
      "(32, 49, 40)\n",
      "tf.Tensor(\n",
      "[11 11 10 11 11  5  6 11 11  4  1 11  5  9 11 11  3  2  0 11  9 11 11 11\n",
      " 11  2 11  7 11 11 11 11], shape=(32,), dtype=int64)\n",
      "(32, 49, 40)\n",
      "tf.Tensor(\n",
      "[11  7 11  1 11 11  0 11  3 11 11 11 11 11 11 11 11  0 11  9  2 11 11 11\n",
      "  1 11 11 11 11  5  1 11], shape=(32,), dtype=int64)\n",
      "(32, 49, 40)\n",
      "tf.Tensor(\n",
      "[11 11 11  4  7 11 11 11 11 11 11 11 11 11  3  0 11 11 11 11  3 11  8 11\n",
      "  2 11  1 11  8  1 11 11], shape=(32,), dtype=int64)\n",
      "(32, 49, 40)\n",
      "tf.Tensor(\n",
      "[ 1 11 11 11  7 11 11 11  9  3 11 11 11 11  8 11  9  0 11  2 11 11  9 11\n",
      " 11 11 11  5  7 11  9  5], shape=(32,), dtype=int64)\n"
     ]
    },
    {
     "data": {
      "image/png": "[encoded data removed]",
      "text/plain": [
       "<Figure size 432x288 with 10 Axes>"
      ]
     },
     "metadata": {
      "needs_background": "light"
     },
     "output_type": "display_data"
    }
   ],
   "source": [
    "\n",
    "for i, (spec, label) in enumerate(ds_train_specs.take(5)):\n",
    "    print(spec.shape)\n",
    "    print(label)\n",
    "    plt.subplot(1,5,i+1)\n",
    "    plt.imshow(spec[0,:,:])\n",
    "    plt.colorbar()"
   ]
  },
  {
   "cell_type": "code",
   "execution_count": null,
   "metadata": {},
   "outputs": [],
   "source": []
  },
  {
   "cell_type": "code",
   "execution_count": 8,
   "metadata": {},
   "outputs": [],
   "source": [
    "model = tf.keras.models.Sequential([\n",
    "  tf.keras.layers.Flatten(input_shape=(49, 40)),\n",
    "  tf.keras.layers.Dense(256, activation='relu'),\n",
    "  # tf.keras.layers.Dropout(0.2),\n",
    "  tf.keras.layers.BatchNormalization(),\n",
    "  tf.keras.layers.Dense(256, activation='relu'),\n",
    "  # tf.keras.layers.Dropout(0.2),\n",
    "  tf.keras.layers.BatchNormalization(),  \n",
    "  tf.keras.layers.Dense(256, activation='relu'),\n",
    "  # tf.keras.layers.Dropout(0.2),\n",
    "  tf.keras.layers.BatchNormalization(),\n",
    "  tf.keras.layers.Dense(num_classes, activation=\"softmax\")\n",
    "])\n",
    "model.compile(\n",
    "    optimizer=keras.optimizers.RMSprop(),  # Optimizer\n",
    "    # Loss function to minimize\n",
    "    loss=keras.losses.SparseCategoricalCrossentropy(),\n",
    "    # List of metrics to monitor\n",
    "    metrics=[keras.metrics.SparseCategoricalAccuracy()],\n",
    ")"
   ]
  },
  {
   "cell_type": "code",
   "execution_count": 9,
   "metadata": {},
   "outputs": [
    {
     "name": "stdout",
     "output_type": "stream",
     "text": [
      "Train for 63 steps\n",
      "Epoch 1/20\n",
      "63/63 [==============================] - 1s 22ms/step - loss: 2.3220 - sparse_categorical_accuracy: 0.3270\n",
      "Epoch 2/20\n",
      "63/63 [==============================] - 0s 4ms/step - loss: 1.4450 - sparse_categorical_accuracy: 0.5720\n",
      "Epoch 3/20\n",
      "63/63 [==============================] - 0s 4ms/step - loss: 1.1045 - sparse_categorical_accuracy: 0.6580\n",
      "Epoch 4/20\n",
      "63/63 [==============================] - 0s 4ms/step - loss: 0.8894 - sparse_categorical_accuracy: 0.7180\n",
      "Epoch 5/20\n",
      "63/63 [==============================] - 0s 4ms/step - loss: 0.7238 - sparse_categorical_accuracy: 0.7675\n",
      "Epoch 6/20\n",
      "63/63 [==============================] - 0s 4ms/step - loss: 0.6253 - sparse_categorical_accuracy: 0.7960\n",
      "Epoch 7/20\n",
      "63/63 [==============================] - 0s 4ms/step - loss: 0.5230 - sparse_categorical_accuracy: 0.8350\n",
      "Epoch 8/20\n",
      "63/63 [==============================] - 0s 4ms/step - loss: 0.4433 - sparse_categorical_accuracy: 0.8475\n",
      "Epoch 9/20\n",
      "63/63 [==============================] - 0s 4ms/step - loss: 0.3695 - sparse_categorical_accuracy: 0.8740\n",
      "Epoch 10/20\n",
      "63/63 [==============================] - 0s 4ms/step - loss: 0.3651 - sparse_categorical_accuracy: 0.8800\n",
      "Epoch 11/20\n",
      "63/63 [==============================] - 0s 4ms/step - loss: 0.3167 - sparse_categorical_accuracy: 0.8955\n",
      "Epoch 12/20\n",
      "63/63 [==============================] - 0s 4ms/step - loss: 0.2545 - sparse_categorical_accuracy: 0.9165\n",
      "Epoch 13/20\n",
      "63/63 [==============================] - 0s 4ms/step - loss: 0.2547 - sparse_categorical_accuracy: 0.9165\n",
      "Epoch 14/20\n",
      "63/63 [==============================] - 0s 4ms/step - loss: 0.2209 - sparse_categorical_accuracy: 0.9260\n",
      "Epoch 15/20\n",
      "63/63 [==============================] - 0s 4ms/step - loss: 0.1791 - sparse_categorical_accuracy: 0.9360\n",
      "Epoch 16/20\n",
      "63/63 [==============================] - 0s 4ms/step - loss: 0.1882 - sparse_categorical_accuracy: 0.9380\n",
      "Epoch 17/20\n",
      "63/63 [==============================] - 0s 4ms/step - loss: 0.1607 - sparse_categorical_accuracy: 0.9470\n",
      "Epoch 18/20\n",
      "63/63 [==============================] - 0s 4ms/step - loss: 0.1532 - sparse_categorical_accuracy: 0.9435\n",
      "Epoch 19/20\n",
      "63/63 [==============================] - 0s 4ms/step - loss: 0.1348 - sparse_categorical_accuracy: 0.9525\n",
      "Epoch 20/20\n",
      "63/63 [==============================] - 0s 4ms/step - loss: 0.1357 - sparse_categorical_accuracy: 0.9560\n"
     ]
    },
    {
     "data": {
      "text/plain": [
       "<tensorflow.python.keras.callbacks.History at 0x7fed5865c780>"
      ]
     },
     "execution_count": 9,
     "metadata": {},
     "output_type": "execute_result"
    }
   ],
   "source": [
    "model.fit(ds_train_specs, epochs=20)"
   ]
  },
  {
   "cell_type": "code",
   "execution_count": null,
   "metadata": {},
   "outputs": [],
   "source": []
  },
  {
   "cell_type": "code",
   "execution_count": null,
   "metadata": {},
   "outputs": [],
   "source": []
  }
 ],
 "metadata": {
  "kernelspec": {
   "display_name": "Python 3",
   "language": "python",
   "name": "python3"
  },
  "language_info": {
   "codemirror_mode": {
    "name": "ipython",
    "version": 3
   },
   "file_extension": ".py",
   "mimetype": "text/x-python",
   "name": "python",
   "nbconvert_exporter": "python",
   "pygments_lexer": "ipython3",
   "version": "3.6.10"
  }
 },
 "nbformat": 4,
 "nbformat_minor": 4
}
